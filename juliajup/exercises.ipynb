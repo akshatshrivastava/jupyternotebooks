{
 "cells": [
  {
   "cell_type": "code",
   "execution_count": null,
   "metadata": {},
   "outputs": [],
   "source": [
    "# Python program to swap two variables\n",
    "# To take inputs from the user\n",
    "x = input('Enter value of x: ')\n",
    "y = input('Enter value of y: ')\n",
    "\n",
    "# create a temporary variable and swap the values\n",
    "temp = x\n",
    "x = y\n",
    "y = temp\n",
    "\n",
    "print('The value of x after swapping: {}'.format(x))\n",
    "print('The value of y after swapping: {}'.format(y))"
   ]
  },
  {
   "cell_type": "code",
   "execution_count": 14,
   "metadata": {},
   "outputs": [
    {
     "name": "stdout",
     "output_type": "stream",
     "text": [
      "Enter the number: 45\n",
      "Odd\n"
     ]
    }
   ],
   "source": [
    "x=input(\"Enter the number: \")\n",
    "if int(x)%2==0:\n",
    "    print(\"Even\")\n",
    "else:\n",
    "    print(\"Odd\")\n",
    "    \n"
   ]
  },
  {
   "cell_type": "code",
   "execution_count": null,
   "metadata": {},
   "outputs": [],
   "source": [
    "#prime numbers\n",
    "num = int(input(\"enter a number: \"))\n",
    " \n",
    "for i in range(2, num):\n",
    "\tif num % i  == 0:\n",
    "\t\tprint(\"not prime number\")\n",
    "\t\tbreak\n",
    "else:\n",
    "\tprint(\"prime number\")"
   ]
  },
  {
   "cell_type": "code",
   "execution_count": 12,
   "metadata": {},
   "outputs": [
    {
     "name": "stdout",
     "output_type": "stream",
     "text": [
      "enter a number: 5\n",
      "factorial of  5  is  120\n"
     ]
    }
   ],
   "source": [
    "#factorial using for loop\n",
    "num = int(input(\"enter a number: \"))\n",
    " \n",
    "fac = 1\n",
    " \n",
    "for i in range(1, num+1):\n",
    "\tfac = fac * i\n",
    " \n",
    "print(\"factorial of \", num, \" is \", fac)"
   ]
  },
  {
   "cell_type": "code",
   "execution_count": null,
   "metadata": {},
   "outputs": [],
   "source": [
    "#factorial using while loop\n",
    "num = int(input(\"enter a number: \"))\n",
    " \n",
    "fac = 1\n",
    "i = 1\n",
    " \n",
    "while i <= num:\n",
    "\tfac = fac * i\n",
    "\ti = i + 1\n",
    " \n",
    "print(\"factorial of \", num, \" is \", fac)"
   ]
  },
  {
   "cell_type": "code",
   "execution_count": null,
   "metadata": {},
   "outputs": [],
   "source": [
    "#fibonacci series\n",
    "num = int(input(\"enter number of digits you want in series (minimum 2): \"))\n",
    " \n",
    "first = 0\n",
    "second = 1\n",
    " \n",
    "print(\"\\nfibonacci series is:\")\n",
    "print(first, \",\", second, end=\", \")\n",
    " \n",
    "for i in range(2, num):\n",
    "\tnext = first + second\n",
    "\tprint(next, end=\", \")\n",
    " \n",
    "\tfirst = second\n",
    "\tsecond = next"
   ]
  },
  {
   "cell_type": "code",
   "execution_count": null,
   "metadata": {},
   "outputs": [],
   "source": [
    "#palindrome number\n",
    "num = int(input(\"enter a number: \"))\n",
    " \n",
    "temp = num\n",
    "rev = 0\n",
    " \n",
    "while temp != 0:\n",
    "\trev = (rev * 10) + (temp % 10)\n",
    "\ttemp = temp // 10\n",
    " \n",
    "if num == rev:\n",
    "\tprint(\"number is palindrome\")\n",
    "else:\n",
    "\tprint(\"number is not palindrome\")"
   ]
  },
  {
   "cell_type": "code",
   "execution_count": null,
   "metadata": {},
   "outputs": [],
   "source": []
  }
 ],
 "metadata": {
  "kernelspec": {
   "display_name": "Python 3",
   "language": "python",
   "name": "python3"
  },
  "language_info": {
   "codemirror_mode": {
    "name": "ipython",
    "version": 3
   },
   "file_extension": ".py",
   "mimetype": "text/x-python",
   "name": "python",
   "nbconvert_exporter": "python",
   "pygments_lexer": "ipython3",
   "version": "3.8.3"
  },
  "varInspector": {
   "cols": {
    "lenName": 16,
    "lenType": 16,
    "lenVar": 40
   },
   "kernels_config": {
    "python": {
     "delete_cmd_postfix": "",
     "delete_cmd_prefix": "del ",
     "library": "var_list.py",
     "varRefreshCmd": "print(var_dic_list())"
    },
    "r": {
     "delete_cmd_postfix": ") ",
     "delete_cmd_prefix": "rm(",
     "library": "var_list.r",
     "varRefreshCmd": "cat(var_dic_list()) "
    }
   },
   "types_to_exclude": [
    "module",
    "function",
    "builtin_function_or_method",
    "instance",
    "_Feature"
   ],
   "window_display": false
  }
 },
 "nbformat": 4,
 "nbformat_minor": 4
}
