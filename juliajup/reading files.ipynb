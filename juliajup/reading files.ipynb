{
 "cells": [
  {
   "cell_type": "code",
   "execution_count": 1,
   "metadata": {},
   "outputs": [],
   "source": [
    "using CSV\n",
    "using DataFrames"
   ]
  },
  {
   "cell_type": "code",
   "execution_count": 7,
   "metadata": {},
   "outputs": [
    {
     "data": {
      "text/html": [
       "<table class=\"data-frame\"><thead><tr><th></th><th>UID</th><th>iso2</th><th>iso3</th><th>code3</th><th>FIPS</th><th>Admin2</th><th>Province_State</th></tr><tr><th></th><th>Int64</th><th>String</th><th>String</th><th>Int64</th><th>Float64?</th><th>String?</th><th>String</th></tr></thead><tbody><p>495,672 rows × 14 columns (omitted printing of 7 columns)</p><tr><th>1</th><td>16</td><td>AS</td><td>ASM</td><td>16</td><td>60.0</td><td><em>missing</em></td><td>American Samoa</td></tr><tr><th>2</th><td>316</td><td>GU</td><td>GUM</td><td>316</td><td>66.0</td><td><em>missing</em></td><td>Guam</td></tr><tr><th>3</th><td>580</td><td>MP</td><td>MNP</td><td>580</td><td>69.0</td><td><em>missing</em></td><td>Northern Mariana Islands</td></tr><tr><th>4</th><td>630</td><td>PR</td><td>PRI</td><td>630</td><td>72.0</td><td><em>missing</em></td><td>Puerto Rico</td></tr><tr><th>5</th><td>850</td><td>VI</td><td>VIR</td><td>850</td><td>78.0</td><td><em>missing</em></td><td>Virgin Islands</td></tr><tr><th>6</th><td>84001001</td><td>US</td><td>USA</td><td>840</td><td>1001.0</td><td>Autauga</td><td>Alabama</td></tr><tr><th>7</th><td>84001003</td><td>US</td><td>USA</td><td>840</td><td>1003.0</td><td>Baldwin</td><td>Alabama</td></tr><tr><th>8</th><td>84001005</td><td>US</td><td>USA</td><td>840</td><td>1005.0</td><td>Barbour</td><td>Alabama</td></tr><tr><th>9</th><td>84001007</td><td>US</td><td>USA</td><td>840</td><td>1007.0</td><td>Bibb</td><td>Alabama</td></tr><tr><th>10</th><td>84001009</td><td>US</td><td>USA</td><td>840</td><td>1009.0</td><td>Blount</td><td>Alabama</td></tr><tr><th>11</th><td>84001011</td><td>US</td><td>USA</td><td>840</td><td>1011.0</td><td>Bullock</td><td>Alabama</td></tr><tr><th>12</th><td>84001013</td><td>US</td><td>USA</td><td>840</td><td>1013.0</td><td>Butler</td><td>Alabama</td></tr><tr><th>13</th><td>84001015</td><td>US</td><td>USA</td><td>840</td><td>1015.0</td><td>Calhoun</td><td>Alabama</td></tr><tr><th>14</th><td>84001017</td><td>US</td><td>USA</td><td>840</td><td>1017.0</td><td>Chambers</td><td>Alabama</td></tr><tr><th>15</th><td>84001019</td><td>US</td><td>USA</td><td>840</td><td>1019.0</td><td>Cherokee</td><td>Alabama</td></tr><tr><th>16</th><td>84001021</td><td>US</td><td>USA</td><td>840</td><td>1021.0</td><td>Chilton</td><td>Alabama</td></tr><tr><th>17</th><td>84001023</td><td>US</td><td>USA</td><td>840</td><td>1023.0</td><td>Choctaw</td><td>Alabama</td></tr><tr><th>18</th><td>84001025</td><td>US</td><td>USA</td><td>840</td><td>1025.0</td><td>Clarke</td><td>Alabama</td></tr><tr><th>19</th><td>84001027</td><td>US</td><td>USA</td><td>840</td><td>1027.0</td><td>Clay</td><td>Alabama</td></tr><tr><th>20</th><td>84001029</td><td>US</td><td>USA</td><td>840</td><td>1029.0</td><td>Cleburne</td><td>Alabama</td></tr><tr><th>21</th><td>84001031</td><td>US</td><td>USA</td><td>840</td><td>1031.0</td><td>Coffee</td><td>Alabama</td></tr><tr><th>22</th><td>84001033</td><td>US</td><td>USA</td><td>840</td><td>1033.0</td><td>Colbert</td><td>Alabama</td></tr><tr><th>23</th><td>84001035</td><td>US</td><td>USA</td><td>840</td><td>1035.0</td><td>Conecuh</td><td>Alabama</td></tr><tr><th>24</th><td>84001037</td><td>US</td><td>USA</td><td>840</td><td>1037.0</td><td>Coosa</td><td>Alabama</td></tr><tr><th>25</th><td>84001039</td><td>US</td><td>USA</td><td>840</td><td>1039.0</td><td>Covington</td><td>Alabama</td></tr><tr><th>26</th><td>84001041</td><td>US</td><td>USA</td><td>840</td><td>1041.0</td><td>Crenshaw</td><td>Alabama</td></tr><tr><th>27</th><td>84001043</td><td>US</td><td>USA</td><td>840</td><td>1043.0</td><td>Cullman</td><td>Alabama</td></tr><tr><th>28</th><td>84001045</td><td>US</td><td>USA</td><td>840</td><td>1045.0</td><td>Dale</td><td>Alabama</td></tr><tr><th>29</th><td>84001047</td><td>US</td><td>USA</td><td>840</td><td>1047.0</td><td>Dallas</td><td>Alabama</td></tr><tr><th>30</th><td>84001049</td><td>US</td><td>USA</td><td>840</td><td>1049.0</td><td>DeKalb</td><td>Alabama</td></tr><tr><th>&vellip;</th><td>&vellip;</td><td>&vellip;</td><td>&vellip;</td><td>&vellip;</td><td>&vellip;</td><td>&vellip;</td><td>&vellip;</td></tr></tbody></table>"
      ],
      "text/latex": [
       "\\begin{tabular}{r|cccccccc}\n",
       "\t& UID & iso2 & iso3 & code3 & FIPS & Admin2 & Province\\_State & \\\\\n",
       "\t\\hline\n",
       "\t& Int64 & String & String & Int64 & Float64? & String? & String & \\\\\n",
       "\t\\hline\n",
       "\t1 & 16 & AS & ASM & 16 & 60.0 & \\emph{missing} & American Samoa & $\\dots$ \\\\\n",
       "\t2 & 316 & GU & GUM & 316 & 66.0 & \\emph{missing} & Guam & $\\dots$ \\\\\n",
       "\t3 & 580 & MP & MNP & 580 & 69.0 & \\emph{missing} & Northern Mariana Islands & $\\dots$ \\\\\n",
       "\t4 & 630 & PR & PRI & 630 & 72.0 & \\emph{missing} & Puerto Rico & $\\dots$ \\\\\n",
       "\t5 & 850 & VI & VIR & 850 & 78.0 & \\emph{missing} & Virgin Islands & $\\dots$ \\\\\n",
       "\t6 & 84001001 & US & USA & 840 & 1001.0 & Autauga & Alabama & $\\dots$ \\\\\n",
       "\t7 & 84001003 & US & USA & 840 & 1003.0 & Baldwin & Alabama & $\\dots$ \\\\\n",
       "\t8 & 84001005 & US & USA & 840 & 1005.0 & Barbour & Alabama & $\\dots$ \\\\\n",
       "\t9 & 84001007 & US & USA & 840 & 1007.0 & Bibb & Alabama & $\\dots$ \\\\\n",
       "\t10 & 84001009 & US & USA & 840 & 1009.0 & Blount & Alabama & $\\dots$ \\\\\n",
       "\t11 & 84001011 & US & USA & 840 & 1011.0 & Bullock & Alabama & $\\dots$ \\\\\n",
       "\t12 & 84001013 & US & USA & 840 & 1013.0 & Butler & Alabama & $\\dots$ \\\\\n",
       "\t13 & 84001015 & US & USA & 840 & 1015.0 & Calhoun & Alabama & $\\dots$ \\\\\n",
       "\t14 & 84001017 & US & USA & 840 & 1017.0 & Chambers & Alabama & $\\dots$ \\\\\n",
       "\t15 & 84001019 & US & USA & 840 & 1019.0 & Cherokee & Alabama & $\\dots$ \\\\\n",
       "\t16 & 84001021 & US & USA & 840 & 1021.0 & Chilton & Alabama & $\\dots$ \\\\\n",
       "\t17 & 84001023 & US & USA & 840 & 1023.0 & Choctaw & Alabama & $\\dots$ \\\\\n",
       "\t18 & 84001025 & US & USA & 840 & 1025.0 & Clarke & Alabama & $\\dots$ \\\\\n",
       "\t19 & 84001027 & US & USA & 840 & 1027.0 & Clay & Alabama & $\\dots$ \\\\\n",
       "\t20 & 84001029 & US & USA & 840 & 1029.0 & Cleburne & Alabama & $\\dots$ \\\\\n",
       "\t21 & 84001031 & US & USA & 840 & 1031.0 & Coffee & Alabama & $\\dots$ \\\\\n",
       "\t22 & 84001033 & US & USA & 840 & 1033.0 & Colbert & Alabama & $\\dots$ \\\\\n",
       "\t23 & 84001035 & US & USA & 840 & 1035.0 & Conecuh & Alabama & $\\dots$ \\\\\n",
       "\t24 & 84001037 & US & USA & 840 & 1037.0 & Coosa & Alabama & $\\dots$ \\\\\n",
       "\t25 & 84001039 & US & USA & 840 & 1039.0 & Covington & Alabama & $\\dots$ \\\\\n",
       "\t26 & 84001041 & US & USA & 840 & 1041.0 & Crenshaw & Alabama & $\\dots$ \\\\\n",
       "\t27 & 84001043 & US & USA & 840 & 1043.0 & Cullman & Alabama & $\\dots$ \\\\\n",
       "\t28 & 84001045 & US & USA & 840 & 1045.0 & Dale & Alabama & $\\dots$ \\\\\n",
       "\t29 & 84001047 & US & USA & 840 & 1047.0 & Dallas & Alabama & $\\dots$ \\\\\n",
       "\t30 & 84001049 & US & USA & 840 & 1049.0 & DeKalb & Alabama & $\\dots$ \\\\\n",
       "\t$\\dots$ & $\\dots$ & $\\dots$ & $\\dots$ & $\\dots$ & $\\dots$ & $\\dots$ & $\\dots$ &  \\\\\n",
       "\\end{tabular}\n"
      ],
      "text/plain": [
       "495672×14 DataFrame. Omitted printing of 9 columns\n",
       "│ Row    │ UID      │ iso2   │ iso3   │ code3 │ FIPS     │\n",
       "│        │ \u001b[90mInt64\u001b[39m    │ \u001b[90mString\u001b[39m │ \u001b[90mString\u001b[39m │ \u001b[90mInt64\u001b[39m │ \u001b[90mFloat64?\u001b[39m │\n",
       "├────────┼──────────┼────────┼────────┼───────┼──────────┤\n",
       "│ 1      │ 16       │ AS     │ ASM    │ 16    │ 60.0     │\n",
       "│ 2      │ 316      │ GU     │ GUM    │ 316   │ 66.0     │\n",
       "│ 3      │ 580      │ MP     │ MNP    │ 580   │ 69.0     │\n",
       "│ 4      │ 630      │ PR     │ PRI    │ 630   │ 72.0     │\n",
       "│ 5      │ 850      │ VI     │ VIR    │ 850   │ 78.0     │\n",
       "│ 6      │ 84001001 │ US     │ USA    │ 840   │ 1001.0   │\n",
       "│ 7      │ 84001003 │ US     │ USA    │ 840   │ 1003.0   │\n",
       "│ 8      │ 84001005 │ US     │ USA    │ 840   │ 1005.0   │\n",
       "│ 9      │ 84001007 │ US     │ USA    │ 840   │ 1007.0   │\n",
       "│ 10     │ 84001009 │ US     │ USA    │ 840   │ 1009.0   │\n",
       "⋮\n",
       "│ 495662 │ 84099999 │ US     │ USA    │ 840   │ 99999.0  │\n",
       "│ 495663 │ 84070002 │ US     │ USA    │ 840   │ \u001b[90mmissing\u001b[39m  │\n",
       "│ 495664 │ 84070003 │ US     │ USA    │ 840   │ \u001b[90mmissing\u001b[39m  │\n",
       "│ 495665 │ 84070004 │ US     │ USA    │ 840   │ \u001b[90mmissing\u001b[39m  │\n",
       "│ 495666 │ 84070005 │ US     │ USA    │ 840   │ \u001b[90mmissing\u001b[39m  │\n",
       "│ 495667 │ 84070015 │ US     │ USA    │ 840   │ \u001b[90mmissing\u001b[39m  │\n",
       "│ 495668 │ 84070016 │ US     │ USA    │ 840   │ \u001b[90mmissing\u001b[39m  │\n",
       "│ 495669 │ 84070017 │ US     │ USA    │ 840   │ \u001b[90mmissing\u001b[39m  │\n",
       "│ 495670 │ 84070018 │ US     │ USA    │ 840   │ \u001b[90mmissing\u001b[39m  │\n",
       "│ 495671 │ 84070019 │ US     │ USA    │ 840   │ \u001b[90mmissing\u001b[39m  │\n",
       "│ 495672 │ 84070020 │ US     │ USA    │ 840   │ \u001b[90mmissing\u001b[39m  │"
      ]
     },
     "execution_count": 7,
     "metadata": {},
     "output_type": "execute_result"
    }
   ],
   "source": [
    "#reading CSV File\n",
    "using CSV\n",
    "using DataFrames\n",
    "\n",
    "CSV.read(\"D:\\\\Rmlearning\\\\CSV files\\\\usa_county.csv\")"
   ]
  },
  {
   "cell_type": "code",
   "execution_count": 13,
   "metadata": {
    "scrolled": true
   },
   "outputs": [
    {
     "data": {
      "text/plain": [
       "\"Chief Justice Roberts, President Carter, President Clinton, President Bush, President Obama, fellow Americans and people of the world \\x96 thank you.\\r\\n\\r\\nWe the citizens of America are now joined in a great national effort to rebuild our county and restore its promise for all of our people.\\r\\n\\r\\nTogether we will determine the course of America and the world for many, many years to come.\\r\\n\\r\\nWe will face challenges. We will confront hardships. But we will get the job done.\\r\\n\\r\\nEvery four years we gather on these steps to carry out the orderly and peaceful transfer of power.\\r\\n\\r\\nAnd we are grateful to President Obama and First Lady Michelle Obama for their gracious aid throughout this transition. They have been magnificent, thank you.\\r\\n\\r\\nToday\\x92s ceremony, however, has very special meaning because today we are not merely transferring power from one administration to another or from one party to another \\x96 but we are transferring power from Washington DC and giving it back to you, the people.\\r\\n\\r\\nFor too long a small group in our nation\\x92s capital has reaped the rewards of government while the people have borne the cost.\\r\\n\\r\\nWashington flourished but the people did not share in its wealth. Politicians prospered but the jobs left and the factories closed.\\r\\n\\r\\nThe establishment protected itself but not the citizens of our country.\\r\\n\\r\\nTheir victories have not been your victories. Their triumphs have not been your triumphs. And while they celebrated in our nation's capital, there has been little to celebrate for struggling families all across our land.\\r\\n\\r\\nThat all changes starting right here and right now because this moment is your moment. It belongs to you. It belongs to everyone gathered here today and everyone watching all across America.\\r\\n\\r\\nThis is your day.\\r\\n\\r\\nThis is your celebration.\\r\\n\\r\\nAnd this \\x96 the United States of America \\x96 is your country.\\r\\n\\r\\nWhat truly matters is not which party controls our government but whether our government is controlled by the people.\\r\\n\\r\\nJanuary 20 2017, will be remembered as the day the people became the rulers of this nation again.\\r\\n\\r\\nDAILY CORONAVIRUS BRIEFING\\r\\nNo hype, just the advice and analysis you need\\r\\n\\r\\nEnter your email address\\r\\nContinue\\r\\nThe forgotten men and women of our country will be forgotten no longer. Everyone is listening to you now.\\r\\n\\r\\nYou came by the tens of millions to become part of a historic movement \\x96 the likes of which the world has never seen before.\\r\\n\\r\\nAt the centre of this movement is a crucial conviction \\x96 that a nation exists to serve its citizens.\\r\\n\\r\\nAmericans want great schools for their children, safe neighbourhoods for their families and good jobs for themselves.\\r\\n\\r\\nThese are just and reasonable demands of righteous people and a righteous public.\\r\\n\\r\\nBut for too many of our citizens a different reality exists.\\r\\n\\r\\nMothers and children trapped in poverty in our inner cities, rusted out factories scattered like tombstones across the landscape of our nation.\\r\\n\\r\\nAn education system flush with cash, but which leaves our young and beautiful students deprived of all knowledge.\\r\\n\\r\\nAnd the crime and the gangs and the drugs that have stolen too many lives and robbed our country of so much unrealised potential.\\r\\n\\r\\nWe are one nation, and their pain is our pain, their dreams are our dreams, we share one nation, one home and one glorious destiny.\\r\\n\\r\\nThis American carnage stops right here and stops right now.\\r\\n\\r\\nWe are one nation and their their pain is our pain; their dreams are our dreams; and their success will be our success. We share one heart, one home and one glorious destiny.\\r\\n\\r\\nThe oath of office I take today is an oath of allegiance to all Americans. For many decades, we\\x92ve enriched foreign industry at the expense of American industry, subsidised the armies of other countries, while allowing for the very sad depletion of our own military.\\r\\n\\r\\nWe've defended other nations\\x92 borders while refusing to defend our own.\\r\\n\\r\\nAnd spent trillions and trillions of dollars overseas while America\\x92s infrastructure has fallen into disrepair and decay.\\r\\n\\r\\nWe've made other countries rich while the wealth, strength and confidence of our country has dissipated over the horizon.\\r\\n\\r\\nOne by one, the factories shuttered and left our shores with not even a thought about the millions and millions of American workers that were left behind.\\r\\n\\r\\nThe wealth of our middle class has been ripped from their homes and then redistributed all across the world.\\r\\n\\r\\nBut that is the past and now we are looking only to the future.\\r\\n\\r\\nWe assembled here today are issuing a new decree to be heard in every city, in every foreign capital and in every hall of power \\x96 from this day forward a new vision will govern our land \\x96 from this day forward it's going to be only America first \\x96 America first!\\r\\n\\r\\nEvery decision on trade, on taxes, on immigration, on foreign affairs will be made to benefit American workers and American families.\\r\\n\\r\\nWe must protect our borders from the ravages of other countries, making our products, stealing our companies and destroying our jobs.\\r\\n\\r\\nProtection will lead to great prosperity and strength. I will fight for you with every breath in my body and I will never ever let you down.\\r\\n\\r\\nAmerica will start winning again; winning like never before.\\r\\n\\r\\nWe will bring back our jobs, we will bring back our borders, we will bring back our wealth and we will bring back our dreams.\\r\\n\\r\\nWe will build new roads and highways and bridges and tunnels and railways all across our wonderful nation.\\r\\n\\r\\nWe will get our people off of welfare and back to work \\x96 rebuilding our country with American hands and American labour.\\r\\n\\r\\nWe will follow two simple rules \\x96 buy American and hire American.\\r\\n\\r\\nWe will seek friendship good will with the nations of the world but we do so with the understanding that it is the right of all nations to put their own interests first.\\r\\n\\r\\nWe do not seek to impose our way of live on anyone but, rather, to let it shine as an example. We will shine for everyone to follow.\\r\\n\\r\\nWe will reinforce old alliances and form new ones, and unite the civilised world against radical Islamic terrorism which we will eradicate from the face of the earth.\\r\\n\\r\\nAt the bedrock of our politics will be a total allegiance to the United States of America. And through our loyalty to our country we will rediscover our loyalty to each other. When you open your heart to patriotism there is no room for prejudice.\\r\\n\\r\\nThe bible tells us how good and pleasant it is when God\\x92s people live together in unity.\\r\\n\\r\\nWe must speak our minds openly, debate our disagreements honestly but always pursue solidarity.\\r\\n\\r\\nWhen America is united, America is totally unstoppable.\\r\\n\\r\\nThere should be no fear: we are protected and we will always be protected. We will be protected by the great men and women of our military and law enforcement. And most importantly we will be protected by God.\\r\\n\\r\\nFinally, we must think big and dream even bigger. In America we understand that a nation is only living as long as it is striving.\\r\\n\\r\\nWe will no longer accept politicians who are all talk and no action, constantly complaining but never doing anything about it.\\r\\n\\r\\nThe time for empty talk is over; now arrives the hour of action.\\r\\n\\r\\nDo not allow anyone to tell you that it cannot be done. No challenge can match the heart and fight and spirit of America. We will not fail; our country will thrive and prosper again.\\r\\n\\r\\nWe stand at the birth of a new millennium, ready to unlock the mysteries of space, to free the earth from the miseries of disease and to harness the energies, industries and technologies of tomorrow.\\r\\n\\r\\nA new national pride will stir our souls, lift our sights and heal our divisions. It\\x92s time to remember that old wisdom our soldiers will never forget, that whether we are black or brown or white, we all bleed the same red blood of patriots.\\r\\n\\r\\nWe all enjoy the same glorious freedoms and we all salute the same great American flag and whether a child is born in the urban sprawl of Detroit or the windswept plains of Nebraska, they look up at the same night sky, they fill their hearts with the same dreams, and they are infused with the breath of life by the same almighty creator.\\r\\n\\r\\nSo to all Americans in every city near and far, small and large, from mountain to mountain, from ocean to ocean, hear these words: you will never be ignored again.\\r\\n\\r\\nYour voice, your hopes and your dreams will define our American destiny.\\r\\n\\r\\nAnd your courage and goodness and love will forever guide us along the way.\\r\\n\\r\\nTogether we will make America strong again; we will make America wealthy again; we will make America proud again; we will make America safe again; and yes \\x96 together we will make America great again.\\r\\n\\r\\nThank you.\\r\\n\\r\\nGod bless you.\\r\\n\\r\\nAnd god bless America.\""
      ]
     },
     "execution_count": 13,
     "metadata": {},
     "output_type": "execute_result"
    }
   ],
   "source": [
    "#reading text file\n",
    "open(f->read(f, String), \"YOUR FILE PATH.txt\")"
   ]
  },
  {
   "cell_type": "code",
   "execution_count": null,
   "metadata": {},
   "outputs": [],
   "source": [
    "#reading Excel file\n",
    "using ExcelReaders\n",
    "\n",
    "data = readxl(\"YOUR FILE PATH.xlsx\", \"Sheet1!A1:C4\")"
   ]
  },
  {
   "cell_type": "code",
   "execution_count": 14,
   "metadata": {},
   "outputs": [
    {
     "name": "stderr",
     "output_type": "stream",
     "text": [
      "┌ Info: Precompiling LightXML [9c8b4983-aa76-5018-a973-4c85ecc9e179]\n",
      "└ @ Base loading.jl:1260\n"
     ]
    }
   ],
   "source": [
    "#reading xml file\n",
    "using LightXML\n",
    "\n",
    "df_xml=parse_file(\"YOUR FILE PATH.xml\")\n",
    "\n",
    "#reading root\n",
    "root = root(df_xml)"
   ]
  },
  {
   "cell_type": "code",
   "execution_count": null,
   "metadata": {},
   "outputs": [],
   "source": [
    "#reading json file\n",
    "using JSON\n",
    "\n",
    "df_json = JSON.parsefile(\"YOUR FILE PATH.json\")"
   ]
  }
 ],
 "metadata": {
  "kernelspec": {
   "display_name": "Julia 1.4.2",
   "language": "julia",
   "name": "julia-1.4"
  },
  "language_info": {
   "file_extension": ".jl",
   "mimetype": "application/julia",
   "name": "julia",
   "version": "1.4.2"
  },
  "varInspector": {
   "cols": {
    "lenName": 16,
    "lenType": 16,
    "lenVar": 40
   },
   "kernels_config": {
    "python": {
     "delete_cmd_postfix": "",
     "delete_cmd_prefix": "del ",
     "library": "var_list.py",
     "varRefreshCmd": "print(var_dic_list())"
    },
    "r": {
     "delete_cmd_postfix": ") ",
     "delete_cmd_prefix": "rm(",
     "library": "var_list.r",
     "varRefreshCmd": "cat(var_dic_list()) "
    }
   },
   "types_to_exclude": [
    "module",
    "function",
    "builtin_function_or_method",
    "instance",
    "_Feature"
   ],
   "window_display": false
  }
 },
 "nbformat": 4,
 "nbformat_minor": 4
}
